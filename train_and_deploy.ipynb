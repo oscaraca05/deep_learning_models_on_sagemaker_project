{
 "cells": [
  {
   "cell_type": "markdown",
   "metadata": {},
   "source": [
    "# Image Classification using AWS Sagemaker\n",
    "\n",
    "This notebook lists all the steps that you need to complete the complete this project. You will need to complete all the TODOs in this notebook as well as in the README and the two python scripts included with the starter code.\n",
    "\n",
    "\n",
    "**TODO**: Give a helpful introduction to what this notebook is for. Remember that comments, explanations and good documentation make your project informative and professional.\n",
    "This notebook explains the necesary steps to train a torchvision model, including the hyperparameter tunning phase managed with on-demand hardware infrastructure within AWS Sagemaker. It also exposes tools for debugging and profiling the training phase using Sagemaker. Lastly, it shows how to deploy the trained pytorch model to an endpoint, in order to serve the model for inference.\n",
    "\n",
    "**Note:** This notebook has a bunch of code and markdown cells with TODOs that you have to complete. These are meant to be helpful guidelines for you to finish your project while meeting the requirements in the project rubrics. Feel free to change the order of these the TODO's and use more than one TODO code cell to do all your tasks."
   ]
  },
  {
   "cell_type": "code",
   "execution_count": null,
   "metadata": {
    "scrolled": true
   },
   "outputs": [],
   "source": [
    "# TODO: Install any packages that you might need\n",
    "# For instance, you will need the smdebug package\n",
    "!pip install smdebug\n",
    "!pip install torchvision\n",
    "!pip install torch"
   ]
  },
  {
   "cell_type": "code",
   "execution_count": 3,
   "metadata": {},
   "outputs": [],
   "source": [
    "# TODO: Import any packages that you might need\n",
    "# For instance you will need Boto3 and Sagemaker\n",
    "import sagemaker\n",
    "import boto3\n",
    "from sagemaker.tuner import (\n",
    "    IntegerParameter,\n",
    "    CategoricalParameter,\n",
    "    ContinuousParameter,\n",
    "    HyperparameterTuner,\n",
    ")\n",
    "from sagemaker.pytorch import PyTorch\n",
    "\n",
    "from sagemaker.debugger import (\n",
    "    Rule,\n",
    "    DebuggerHookConfig,\n",
    "    rule_configs,\n",
    ")\n",
    "\n",
    "from sagemaker.debugger import Rule, ProfilerRule"
   ]
  },
  {
   "cell_type": "markdown",
   "metadata": {},
   "source": [
    "## Dataset\n",
    "I choose the dog breeds dataset. It is dividen into three folders (train, test, valid), Each one of them has 133 subfolder for each breed, and inside those subfolder reside the dogs' images, we need to highlight that images size are different between each other. We have 6680 training images, 636 test images, and 835 validation images."
   ]
  },
  {
   "cell_type": "code",
   "execution_count": null,
   "metadata": {},
   "outputs": [],
   "source": [
    "!ls dogImages/valid/*/* | wc -l"
   ]
  },
  {
   "cell_type": "code",
   "execution_count": null,
   "metadata": {
    "scrolled": true,
    "tags": []
   },
   "outputs": [],
   "source": [
    "# TODO: Fetch and upload the data to AWS S3\n",
    "\n",
    "# Command to download and unzip data\n",
    "# !wget https://s3-us-west-1.amazonaws.com/udacity-aind/dog-project/dogImages.zip\n",
    "!unzip dogImagesSubset.zip"
   ]
  },
  {
   "cell_type": "code",
   "execution_count": 4,
   "metadata": {},
   "outputs": [
    {
     "data": {
      "text/plain": [
       "(<sagemaker.session.Session at 0x7fe6b2f5cfd0>,\n",
       " 'sagemaker-us-east-1-155431344840',\n",
       " 'arn:aws:iam::155431344840:role/service-role/AmazonSageMaker-ExecutionRole-20221019T135057')"
      ]
     },
     "execution_count": 4,
     "metadata": {},
     "output_type": "execute_result"
    }
   ],
   "source": [
    "sess = sagemaker.Session()\n",
    "bucket = sess.default_bucket()                    # Set a default S3 bucket\n",
    "prefix = 'deep-learning-models-on-sagemaker-project'\n",
    "role = sagemaker.get_execution_role()\n",
    "sess, bucket, role"
   ]
  },
  {
   "cell_type": "markdown",
   "metadata": {},
   "source": [
    "## Hyperparameter Tuning\n",
    "**TODO:** This is the part where you will finetune a pretrained model with hyperparameter tuning. Remember that you have to tune a minimum of two hyperparameters. However you are encouraged to tune more. You are also encouraged to explain why you chose to tune those particular hyperparameters and the ranges.\n",
    "\n",
    "Answer: Learning rate, momentum and batch-size are important parameters whose have a direct impact in the performance of the model, they can avoid both, overfitting and underfitting. They can also accelerate the gradient for reducing the loss.\n",
    "\n",
    "**Note:** You will need to use the `hpo.py` script to perform hyperparameter tuning."
   ]
  },
  {
   "cell_type": "code",
   "execution_count": 4,
   "metadata": {},
   "outputs": [],
   "source": [
    "#TODO: Declare your HP ranges, metrics etc.\n",
    "hyperparameter_ranges = {\n",
    "    \"lr\": ContinuousParameter(0.001, 0.1),\n",
    "    \"momentum\": ContinuousParameter(0.1, 0.9),\n",
    "    \"batch-size\": CategoricalParameter([8, 16, 32, 64]),\n",
    "}"
   ]
  },
  {
   "cell_type": "code",
   "execution_count": 7,
   "metadata": {},
   "outputs": [],
   "source": [
    "#TODO: Create estimators for your HPs\n",
    "\n",
    "estimator = PyTorch(\n",
    "    entry_point=\"hpo.py\",\n",
    "    role=role,\n",
    "    py_version='py36',\n",
    "    framework_version=\"1.8\",\n",
    "    instance_count=1,\n",
    "    instance_type=\"ml.m5.large\"\n",
    ")# TODO: Your estimator here\n",
    "\n",
    "objective_metric_name = \"average test loss\"\n",
    "objective_type = \"Minimize\"\n",
    "metric_definitions = [{\"Name\": \"average test loss\", \"Regex\": \"Test set: Average loss: (\\-?[0-9\\\\.]+)\"}]\n",
    "\n",
    "tuner = tuner = HyperparameterTuner(\n",
    "    estimator,\n",
    "    objective_metric_name,\n",
    "    hyperparameter_ranges,\n",
    "    metric_definitions,\n",
    "    max_jobs=9,\n",
    "    max_parallel_jobs=3,\n",
    "    objective_type=objective_type,\n",
    ")# TODO: Your HP tuner here"
   ]
  },
  {
   "cell_type": "code",
   "execution_count": 12,
   "metadata": {},
   "outputs": [],
   "source": [
    "s3_data = \"s3://sagemaker-us-east-1-155431344840/deep-learning-models-on-sagemaker-project/dogImagesSubset\"\n",
    "# s3_data = \"s3://sagemaker-us-east-1-155431344840/deep-learning-models-on-sagemaker-project/dogImages\""
   ]
  },
  {
   "cell_type": "code",
   "execution_count": 10,
   "metadata": {},
   "outputs": [
    {
     "name": "stdout",
     "output_type": "stream",
     "text": [
      "...................................................................................................................................................................................................................................................................................................................................................................................................................................................................................................................................................................................................................................................................................................................................................................................................................................................................................................................................................................................................................................................................................................................................................................................................................................................................................................................................................................................................................................................................................................................................................................................................................................................................................................................................................................................................................!\n"
     ]
    }
   ],
   "source": [
    "# TODO: Fit your HP Tuner\n",
    "tuner.fit({\"training\":s3_data}) # TODO: Remember to include your data channels"
   ]
  },
  {
   "cell_type": "code",
   "execution_count": 12,
   "metadata": {},
   "outputs": [
    {
     "name": "stdout",
     "output_type": "stream",
     "text": [
      "\n",
      "2022-11-18 02:45:33 Starting - Found matching resource for reuse\n",
      "2022-11-18 02:45:33 Downloading - Downloading input data\n",
      "2022-11-18 02:45:33 Training - Training image download completed. Training in progress.\n",
      "2022-11-18 02:45:33 Uploading - Uploading generated training model\n",
      "2022-11-18 02:45:33 Completed - Resource retained for reuse\n"
     ]
    },
    {
     "data": {
      "text/plain": [
       "{'_tuning_objective_metric': '\"average test loss\"',\n",
       " 'batch-size': '\"8\"',\n",
       " 'lr': '0.01364056232805739',\n",
       " 'momentum': '0.5155036728264019',\n",
       " 'sagemaker_container_log_level': '20',\n",
       " 'sagemaker_estimator_class_name': '\"PyTorch\"',\n",
       " 'sagemaker_estimator_module': '\"sagemaker.pytorch.estimator\"',\n",
       " 'sagemaker_job_name': '\"pytorch-training-2022-11-18-00-30-23-285\"',\n",
       " 'sagemaker_program': '\"hpo.py\"',\n",
       " 'sagemaker_region': '\"us-east-1\"',\n",
       " 'sagemaker_submit_directory': '\"s3://sagemaker-us-east-1-155431344840/pytorch-training-2022-11-18-00-30-23-285/source/sourcedir.tar.gz\"'}"
      ]
     },
     "execution_count": 12,
     "metadata": {},
     "output_type": "execute_result"
    }
   ],
   "source": [
    "# TODO: Get the best estimators and the best HPs\n",
    "best_estimator = tuner.best_estimator()#TODO\n",
    "\n",
    "#Get the hyperparameters of the best trained model\n",
    "best_estimator.hyperparameters()"
   ]
  },
  {
   "cell_type": "markdown",
   "metadata": {},
   "source": [
    "## Model Profiling and Debugging\n",
    "TODO: Using the best hyperparameters, create and finetune a new model\n",
    "\n",
    "**Note:** You will need to use the `train_model.py` script to perform model profiling and debugging."
   ]
  },
  {
   "cell_type": "code",
   "execution_count": 10,
   "metadata": {},
   "outputs": [],
   "source": [
    "# TODO: Set up debugging and profiling rules and hooks\n",
    "rules = [\n",
    "    Rule.sagemaker(rule_configs.vanishing_gradient()),\n",
    "    Rule.sagemaker(rule_configs.overfit()),\n",
    "    Rule.sagemaker(rule_configs.overtraining()),\n",
    "    Rule.sagemaker(rule_configs.poor_weight_initialization()),\n",
    "    Rule.sagemaker(rule_configs.loss_not_decreasing()),\n",
    "    # ProfilerRule.sagemaker(rule_configs.LowGPUUtilization()),\n",
    "    # ProfilerRule.sagemaker(rule_configs.ProfilerReport()),\n",
    "]\n",
    "\n",
    "# hook_config = DebuggerHookConfig(\n",
    "#     hook_parameters={\"train.save_interval\": \"10\", \"eval.save_interval\": \"1\"}\n",
    "# )\n",
    "\n",
    "hook_config = DebuggerHookConfig(\n",
    "    hook_parameters={\"save_interval\": \"10\"}\n",
    ")\n",
    "\n",
    "from sagemaker.debugger import ProfilerConfig, FrameworkProfile\n",
    "profiler_config=ProfilerConfig(\n",
    "    system_monitor_interval_millis=1000,\n",
    "    framework_profile_params=FrameworkProfile()\n",
    ")\n",
    "\n",
    "\n",
    "hyperparameters = {\"epochs\": \"5\", \"batch-size\": \"8\", \"test-batch-size\": \"8\", \"lr\": \"0.01364056232805739\", \"momentum\": \"0.5155036728264019\"}"
   ]
  },
  {
   "cell_type": "code",
   "execution_count": 11,
   "metadata": {},
   "outputs": [],
   "source": [
    "# TODO: Create and fit an estimator\n",
    "\n",
    "estimator = PyTorch(\n",
    "    entry_point=\"train_model.py\",\n",
    "    base_job_name=\"image-classification-course-project-pytorch\",\n",
    "    role=role,\n",
    "    instance_count=1,\n",
    "    instance_type=\"ml.m5.large\",\n",
    "    hyperparameters=hyperparameters,\n",
    "    framework_version=\"1.8\",\n",
    "    py_version=\"py36\",\n",
    "    ## Debugger parameters\n",
    "    rules=rules,\n",
    "    debugger_hook_config=hook_config,\n",
    "    profiler_config=profiler_config,\n",
    ")# TODO: Your estimator here"
   ]
  },
  {
   "cell_type": "code",
   "execution_count": 16,
   "metadata": {
    "scrolled": true,
    "tags": []
   },
   "outputs": [
    {
     "name": "stdout",
     "output_type": "stream",
     "text": [
      "2022-11-18 16:58:42 Starting - Starting the training job...\n",
      "2022-11-18 16:58:59 Starting - Preparing the instances for trainingVanishingGradient: InProgress\n",
      "Overfit: InProgress\n",
      "Overtraining: InProgress\n",
      "PoorWeightInitialization: InProgress\n",
      "LossNotDecreasing: InProgress\n",
      "ProfilerReport-1668790722: InProgress\n",
      "......\n",
      "2022-11-18 17:00:04 Downloading - Downloading input data......\n",
      "2022-11-18 17:01:05 Training - Downloading the training image...\n",
      "2022-11-18 17:01:36 Training - Training image download completed. Training in progress..\u001b[34mbash: cannot set terminal process group (-1): Inappropriate ioctl for device\u001b[0m\n",
      "\u001b[34mbash: no job control in this shell\u001b[0m\n",
      "\u001b[34m2022-11-18 17:01:38,604 sagemaker-training-toolkit INFO     Imported framework sagemaker_pytorch_container.training\u001b[0m\n",
      "\u001b[34m2022-11-18 17:01:38,607 sagemaker-training-toolkit INFO     No GPUs detected (normal if no gpus installed)\u001b[0m\n",
      "\u001b[34m2022-11-18 17:01:38,615 sagemaker_pytorch_container.training INFO     Block until all host DNS lookups succeed.\u001b[0m\n",
      "\u001b[34m2022-11-18 17:01:38,622 sagemaker_pytorch_container.training INFO     Invoking user training script.\u001b[0m\n",
      "\u001b[34m2022-11-18 17:01:39,066 sagemaker-training-toolkit INFO     No GPUs detected (normal if no gpus installed)\u001b[0m\n",
      "\u001b[34m2022-11-18 17:01:39,079 sagemaker-training-toolkit INFO     No GPUs detected (normal if no gpus installed)\u001b[0m\n",
      "\u001b[34m2022-11-18 17:01:39,089 sagemaker-training-toolkit INFO     No GPUs detected (normal if no gpus installed)\u001b[0m\n",
      "\u001b[34m2022-11-18 17:01:39,098 sagemaker-training-toolkit INFO     Invoking user script\u001b[0m\n",
      "\u001b[34mTraining Env:\u001b[0m\n",
      "\u001b[34m{\n",
      "    \"additional_framework_parameters\": {},\n",
      "    \"channel_input_dirs\": {\n",
      "        \"training\": \"/opt/ml/input/data/training\"\n",
      "    },\n",
      "    \"current_host\": \"algo-1\",\n",
      "    \"framework_module\": \"sagemaker_pytorch_container.training:main\",\n",
      "    \"hosts\": [\n",
      "        \"algo-1\"\n",
      "    ],\n",
      "    \"hyperparameters\": {\n",
      "        \"batch-size\": \"8\",\n",
      "        \"epochs\": \"5\",\n",
      "        \"lr\": \"0.01364056232805739\",\n",
      "        \"momentum\": \"0.5155036728264019\",\n",
      "        \"test-batch-size\": \"8\"\n",
      "    },\n",
      "    \"input_config_dir\": \"/opt/ml/input/config\",\n",
      "    \"input_data_config\": {\n",
      "        \"training\": {\n",
      "            \"TrainingInputMode\": \"File\",\n",
      "            \"S3DistributionType\": \"FullyReplicated\",\n",
      "            \"RecordWrapperType\": \"None\"\n",
      "        }\n",
      "    },\n",
      "    \"input_dir\": \"/opt/ml/input\",\n",
      "    \"is_master\": true,\n",
      "    \"job_name\": \"image-classification-course-project-pyt-2022-11-18-16-58-42-607\",\n",
      "    \"log_level\": 20,\n",
      "    \"master_hostname\": \"algo-1\",\n",
      "    \"model_dir\": \"/opt/ml/model\",\n",
      "    \"module_dir\": \"s3://sagemaker-us-east-1-155431344840/image-classification-course-project-pyt-2022-11-18-16-58-42-607/source/sourcedir.tar.gz\",\n",
      "    \"module_name\": \"train_model\",\n",
      "    \"network_interface_name\": \"eth0\",\n",
      "    \"num_cpus\": 2,\n",
      "    \"num_gpus\": 0,\n",
      "    \"output_data_dir\": \"/opt/ml/output/data\",\n",
      "    \"output_dir\": \"/opt/ml/output\",\n",
      "    \"output_intermediate_dir\": \"/opt/ml/output/intermediate\",\n",
      "    \"resource_config\": {\n",
      "        \"current_host\": \"algo-1\",\n",
      "        \"current_instance_type\": \"ml.m5.large\",\n",
      "        \"current_group_name\": \"homogeneousCluster\",\n",
      "        \"hosts\": [\n",
      "            \"algo-1\"\n",
      "        ],\n",
      "        \"instance_groups\": [\n",
      "            {\n",
      "                \"instance_group_name\": \"homogeneousCluster\",\n",
      "                \"instance_type\": \"ml.m5.large\",\n",
      "                \"hosts\": [\n",
      "                    \"algo-1\"\n",
      "                ]\n",
      "            }\n",
      "        ],\n",
      "        \"network_interface_name\": \"eth0\"\n",
      "    },\n",
      "    \"user_entry_point\": \"train_model.py\"\u001b[0m\n",
      "\u001b[34m}\u001b[0m\n",
      "\u001b[34mEnvironment variables:\u001b[0m\n",
      "\u001b[34mSM_HOSTS=[\"algo-1\"]\u001b[0m\n",
      "\u001b[34mSM_NETWORK_INTERFACE_NAME=eth0\u001b[0m\n",
      "\u001b[34mSM_HPS={\"batch-size\":\"8\",\"epochs\":\"5\",\"lr\":\"0.01364056232805739\",\"momentum\":\"0.5155036728264019\",\"test-batch-size\":\"8\"}\u001b[0m\n",
      "\u001b[34mSM_USER_ENTRY_POINT=train_model.py\u001b[0m\n",
      "\u001b[34mSM_FRAMEWORK_PARAMS={}\u001b[0m\n",
      "\u001b[34mSM_RESOURCE_CONFIG={\"current_group_name\":\"homogeneousCluster\",\"current_host\":\"algo-1\",\"current_instance_type\":\"ml.m5.large\",\"hosts\":[\"algo-1\"],\"instance_groups\":[{\"hosts\":[\"algo-1\"],\"instance_group_name\":\"homogeneousCluster\",\"instance_type\":\"ml.m5.large\"}],\"network_interface_name\":\"eth0\"}\u001b[0m\n",
      "\u001b[34mSM_INPUT_DATA_CONFIG={\"training\":{\"RecordWrapperType\":\"None\",\"S3DistributionType\":\"FullyReplicated\",\"TrainingInputMode\":\"File\"}}\u001b[0m\n",
      "\u001b[34mSM_OUTPUT_DATA_DIR=/opt/ml/output/data\u001b[0m\n",
      "\u001b[34mSM_CHANNELS=[\"training\"]\u001b[0m\n",
      "\u001b[34mSM_CURRENT_HOST=algo-1\u001b[0m\n",
      "\u001b[34mSM_MODULE_NAME=train_model\u001b[0m\n",
      "\u001b[34mSM_LOG_LEVEL=20\u001b[0m\n",
      "\u001b[34mSM_FRAMEWORK_MODULE=sagemaker_pytorch_container.training:main\u001b[0m\n",
      "\u001b[34mSM_INPUT_DIR=/opt/ml/input\u001b[0m\n",
      "\u001b[34mSM_INPUT_CONFIG_DIR=/opt/ml/input/config\u001b[0m\n",
      "\u001b[34mSM_OUTPUT_DIR=/opt/ml/output\u001b[0m\n",
      "\u001b[34mSM_NUM_CPUS=2\u001b[0m\n",
      "\u001b[34mSM_NUM_GPUS=0\u001b[0m\n",
      "\u001b[34mSM_MODEL_DIR=/opt/ml/model\u001b[0m\n",
      "\u001b[34mSM_MODULE_DIR=s3://sagemaker-us-east-1-155431344840/image-classification-course-project-pyt-2022-11-18-16-58-42-607/source/sourcedir.tar.gz\u001b[0m\n",
      "\u001b[34mSM_TRAINING_ENV={\"additional_framework_parameters\":{},\"channel_input_dirs\":{\"training\":\"/opt/ml/input/data/training\"},\"current_host\":\"algo-1\",\"framework_module\":\"sagemaker_pytorch_container.training:main\",\"hosts\":[\"algo-1\"],\"hyperparameters\":{\"batch-size\":\"8\",\"epochs\":\"5\",\"lr\":\"0.01364056232805739\",\"momentum\":\"0.5155036728264019\",\"test-batch-size\":\"8\"},\"input_config_dir\":\"/opt/ml/input/config\",\"input_data_config\":{\"training\":{\"RecordWrapperType\":\"None\",\"S3DistributionType\":\"FullyReplicated\",\"TrainingInputMode\":\"File\"}},\"input_dir\":\"/opt/ml/input\",\"is_master\":true,\"job_name\":\"image-classification-course-project-pyt-2022-11-18-16-58-42-607\",\"log_level\":20,\"master_hostname\":\"algo-1\",\"model_dir\":\"/opt/ml/model\",\"module_dir\":\"s3://sagemaker-us-east-1-155431344840/image-classification-course-project-pyt-2022-11-18-16-58-42-607/source/sourcedir.tar.gz\",\"module_name\":\"train_model\",\"network_interface_name\":\"eth0\",\"num_cpus\":2,\"num_gpus\":0,\"output_data_dir\":\"/opt/ml/output/data\",\"output_dir\":\"/opt/ml/output\",\"output_intermediate_dir\":\"/opt/ml/output/intermediate\",\"resource_config\":{\"current_group_name\":\"homogeneousCluster\",\"current_host\":\"algo-1\",\"current_instance_type\":\"ml.m5.large\",\"hosts\":[\"algo-1\"],\"instance_groups\":[{\"hosts\":[\"algo-1\"],\"instance_group_name\":\"homogeneousCluster\",\"instance_type\":\"ml.m5.large\"}],\"network_interface_name\":\"eth0\"},\"user_entry_point\":\"train_model.py\"}\u001b[0m\n",
      "\u001b[34mSM_USER_ARGS=[\"--batch-size\",\"8\",\"--epochs\",\"5\",\"--lr\",\"0.01364056232805739\",\"--momentum\",\"0.5155036728264019\",\"--test-batch-size\",\"8\"]\u001b[0m\n",
      "\u001b[34mSM_OUTPUT_INTERMEDIATE_DIR=/opt/ml/output/intermediate\u001b[0m\n",
      "\u001b[34mSM_CHANNEL_TRAINING=/opt/ml/input/data/training\u001b[0m\n",
      "\u001b[34mSM_HP_BATCH-SIZE=8\u001b[0m\n",
      "\u001b[34mSM_HP_EPOCHS=5\u001b[0m\n",
      "\u001b[34mSM_HP_LR=0.01364056232805739\u001b[0m\n",
      "\u001b[34mSM_HP_MOMENTUM=0.5155036728264019\u001b[0m\n",
      "\u001b[34mSM_HP_TEST-BATCH-SIZE=8\u001b[0m\n",
      "\u001b[34mPYTHONPATH=/opt/ml/code:/opt/conda/bin:/opt/conda/lib/python36.zip:/opt/conda/lib/python3.6:/opt/conda/lib/python3.6/lib-dynload:/opt/conda/lib/python3.6/site-packages\u001b[0m\n",
      "\u001b[34mInvoking script with the following command:\u001b[0m\n",
      "\u001b[34m/opt/conda/bin/python3.6 train_model.py --batch-size 8 --epochs 5 --lr 0.01364056232805739 --momentum 0.5155036728264019 --test-batch-size 8\u001b[0m\n",
      "\u001b[34m[2022-11-18 17:01:40.589 algo-1:30 INFO utils.py:27] RULE_JOB_STOP_SIGNAL_FILENAME: None\u001b[0m\n",
      "\u001b[34m[2022-11-18 17:01:40.934 algo-1:30 INFO profiler_config_parser.py:102] Using config at /opt/ml/input/config/profilerconfig.json.\u001b[0m\n",
      "\u001b[34m[2022-11-18 17:01:41.973 algo-1:30 INFO json_config.py:91] Creating hook from json_config at /opt/ml/input/config/debughookconfig.json.\u001b[0m\n",
      "\u001b[34m[2022-11-18 17:01:41.975 algo-1:30 INFO hook.py:201] tensorboard_dir has not been set for the hook. SMDebug will not be exporting tensorboard summaries.\u001b[0m\n",
      "\u001b[34m[2022-11-18 17:01:41.976 algo-1:30 INFO hook.py:255] Saving to /opt/ml/output/tensors\u001b[0m\n",
      "\u001b[34m[2022-11-18 17:01:41.977 algo-1:30 INFO state_store.py:77] The checkpoint config file /opt/ml/input/config/checkpointconfig.json does not exist.\u001b[0m\n",
      "\u001b[34m[2022-11-18 17:01:41.991 algo-1:30 INFO hook.py:591] name:fc.weight count_params:3584\u001b[0m\n",
      "\u001b[34m[2022-11-18 17:01:41.991 algo-1:30 INFO hook.py:591] name:fc.bias count_params:7\u001b[0m\n",
      "\u001b[34m[2022-11-18 17:01:41.992 algo-1:30 INFO hook.py:593] Total Trainable Params: 3591\u001b[0m\n",
      "\u001b[34mGet train data loader\u001b[0m\n",
      "\u001b[34mGet test data loader\u001b[0m\n",
      "\u001b[34m[2022-11-18 17:01:42.188 algo-1:30 INFO hook.py:425] Monitoring the collections: losses, gradients, relu_input\u001b[0m\n",
      "\u001b[34m[2022-11-18 17:01:42.190 algo-1:30 INFO python_profiler.py:182] Dumping cProfile stats to /opt/ml/output/profiler/framework/pytorch/cprofile/30-algo-1/prestepzero-*-start-1668790900934524.8_train-0-stepstart-1668790902189519.8/python_stats.\u001b[0m\n",
      "\u001b[34m[2022-11-18 17:01:42.207 algo-1:30 INFO hook.py:488] Hook is writing from the hook with pid: 30\u001b[0m\n",
      "\u001b[34mTrain Epoch: 1 [0/409 (0%)] Loss: 2.068091\u001b[0m\n",
      "\u001b[34m[2022-11-18 17:01:52.065 algo-1:30 INFO python_profiler.py:182] Dumping cProfile stats to /opt/ml/output/profiler/framework/pytorch/cprofile/30-algo-1/train-9-stepstart-1668790911612907.2_train-9-forwardpassend-1668790912064943.0/python_stats.\u001b[0m\n",
      "\u001b[34m[2022-11-18 17:01:52.150 algo-1:30 INFO python_profiler.py:182] Dumping cProfile stats to /opt/ml/output/profiler/framework/pytorch/cprofile/30-algo-1/train-9-forwardpassend-1668790912066802.5_train-10-stepstart-1668790912149625.2/python_stats.\u001b[0m\n",
      "\u001b[34m[2022-11-18 17:01:52.626 algo-1:30 INFO python_profiler.py:182] Dumping cProfile stats to /opt/ml/output/profiler/framework/pytorch/cprofile/30-algo-1/train-10-stepstart-1668790912153273.8_train-10-forwardpassend-1668790912626214.8/python_stats.\u001b[0m\n",
      "\u001b[34m[2022-11-18 17:01:52.982 algo-1:30 INFO python_profiler.py:182] Dumping cProfile stats to /opt/ml/output/profiler/framework/pytorch/cprofile/30-algo-1/train-10-forwardpassend-1668790912627951.5_train-11-stepstart-1668790912982006.0/python_stats.\u001b[0m\n",
      "\u001b[34m[2022-11-18 17:01:53.448 algo-1:30 INFO python_profiler.py:182] Dumping cProfile stats to /opt/ml/output/profiler/framework/pytorch/cprofile/30-algo-1/train-11-stepstart-1668790912985766.5_train-11-forwardpassend-1668790913447939.8/python_stats.\u001b[0m\n",
      "\u001b[34m[2022-11-18 17:01:53.520 algo-1:30 INFO python_profiler.py:182] Dumping cProfile stats to /opt/ml/output/profiler/framework/pytorch/cprofile/30-algo-1/train-11-forwardpassend-1668790913449652.8_train-12-stepstart-1668790913520210.0/python_stats.\u001b[0m\n",
      "\u001b[34mTrain Epoch: 1 [400/409 (96%)] Loss: 0.997101\u001b[0m\n",
      "\u001b[34mTest set: Average loss: 0.2511, Accuracy: 22/53 (42%)\u001b[0m\n",
      "\u001b[34mTrain Epoch: 2 [0/409 (0%)] Loss: 1.366023\u001b[0m\n",
      "\u001b[34mTrain Epoch: 2 [400/409 (96%)] Loss: 0.959789\u001b[0m\n",
      "\u001b[34mTest set: Average loss: 0.1932, Accuracy: 26/53 (49%)\u001b[0m\n",
      "\u001b[34mTrain Epoch: 3 [0/409 (0%)] Loss: 1.525255\u001b[0m\n",
      "\u001b[34mTrain Epoch: 3 [400/409 (96%)] Loss: 0.333387\u001b[0m\n",
      "\u001b[34mTest set: Average loss: 0.0949, Accuracy: 40/53 (75%)\u001b[0m\n",
      "\u001b[34mTrain Epoch: 4 [0/409 (0%)] Loss: 1.020776\u001b[0m\n",
      "\u001b[34mTrain Epoch: 4 [400/409 (96%)] Loss: 0.470234\u001b[0m\n",
      "\u001b[34mTest set: Average loss: 0.0783, Accuracy: 44/53 (83%)\u001b[0m\n",
      "\u001b[34mTrain Epoch: 5 [0/409 (0%)] Loss: 1.815944\u001b[0m\n",
      "\n",
      "2022-11-18 17:04:17 Uploading - Uploading generated training model\u001b[34mTrain Epoch: 5 [400/409 (96%)] Loss: 2.489177\u001b[0m\n",
      "\u001b[34mTest set: Average loss: 0.0570, Accuracy: 45/53 (85%)\u001b[0m\n",
      "\u001b[34mDownloading: \"https://download.pytorch.org/models/resnet18-5c106cde.pth\" to /root/.cache/torch/hub/checkpoints/resnet18-5c106cde.pth\u001b[0m\n",
      "\u001b[34m#015  0%|          | 0.00/44.7M [00:00<?, ?B/s]#015 17%|█▋        | 7.48M/44.7M [00:00<00:00, 78.4MB/s]#015 35%|███▍      | 15.5M/44.7M [00:00<00:00, 82.0MB/s]#015 53%|█████▎    | 23.7M/44.7M [00:00<00:00, 83.4MB/s]#015 71%|███████   | 31.6M/44.7M [00:00<00:00, 83.5MB/s]#015 89%|████████▉ | 39.7M/44.7M [00:00<00:00, 83.7MB/s]#015100%|██████████| 44.7M/44.7M [00:00<00:00, 83.2MB/s]\u001b[0m\n",
      "\u001b[34mINFO:__main__:Get train data loader\u001b[0m\n",
      "\u001b[34mINFO:__main__:Get test data loader\u001b[0m\n",
      "\u001b[34mINFO:__main__:Train Epoch: 1 [0/409 (0%)] Loss: 2.068091\u001b[0m\n",
      "\u001b[34mINFO:__main__:Train Epoch: 1 [400/409 (96%)] Loss: 0.997101\u001b[0m\n",
      "\u001b[34mINFO:__main__:Test set: Average loss: 0.2511, Accuracy: 22/53 (42%)\u001b[0m\n",
      "\u001b[34mINFO:__main__:Train Epoch: 2 [0/409 (0%)] Loss: 1.366023\u001b[0m\n",
      "\u001b[34mINFO:__main__:Train Epoch: 2 [400/409 (96%)] Loss: 0.959789\u001b[0m\n",
      "\u001b[34mINFO:__main__:Test set: Average loss: 0.1932, Accuracy: 26/53 (49%)\u001b[0m\n",
      "\u001b[34mINFO:__main__:Train Epoch: 3 [0/409 (0%)] Loss: 1.525255\u001b[0m\n",
      "\u001b[34mINFO:__main__:Train Epoch: 3 [400/409 (96%)] Loss: 0.333387\u001b[0m\n",
      "\u001b[34mINFO:__main__:Test set: Average loss: 0.0949, Accuracy: 40/53 (75%)\u001b[0m\n",
      "\u001b[34mINFO:__main__:Train Epoch: 4 [0/409 (0%)] Loss: 1.020776\u001b[0m\n",
      "\u001b[34mINFO:__main__:Train Epoch: 4 [400/409 (96%)] Loss: 0.470234\u001b[0m\n",
      "\u001b[34mINFO:__main__:Test set: Average loss: 0.0783, Accuracy: 44/53 (83%)\u001b[0m\n",
      "\u001b[34mINFO:__main__:Train Epoch: 5 [0/409 (0%)] Loss: 1.815944\u001b[0m\n",
      "\u001b[34mINFO:__main__:Train Epoch: 5 [400/409 (96%)] Loss: 2.489177\u001b[0m\n",
      "\u001b[34mINFO:__main__:Test set: Average loss: 0.0570, Accuracy: 45/53 (85%)\u001b[0m\n",
      "\u001b[34m2022-11-18 17:04:13,847 sagemaker-training-toolkit INFO     Reporting training SUCCESS\u001b[0m\n",
      "\n",
      "2022-11-18 17:04:46 Completed - Training job completed\n",
      "Training seconds: 283\n",
      "Billable seconds: 283\n"
     ]
    }
   ],
   "source": [
    "estimator.fit({\"training\":s3_data}, wait=True)"
   ]
  },
  {
   "cell_type": "code",
   "execution_count": 17,
   "metadata": {
    "scrolled": true,
    "tags": []
   },
   "outputs": [
    {
     "data": {
      "text/plain": [
       "('image-classification-course-project-pyt-2022-11-18-16-58-42-607',\n",
       " <botocore.client.SageMaker at 0x7fe69e64c370>,\n",
       " {'TrainingJobName': 'image-classification-course-project-pyt-2022-11-18-16-58-42-607',\n",
       "  'TrainingJobArn': 'arn:aws:sagemaker:us-east-1:155431344840:training-job/image-classification-course-project-pyt-2022-11-18-16-58-42-607',\n",
       "  'ModelArtifacts': {'S3ModelArtifacts': 's3://sagemaker-us-east-1-155431344840/image-classification-course-project-pyt-2022-11-18-16-58-42-607/output/model.tar.gz'},\n",
       "  'TrainingJobStatus': 'Completed',\n",
       "  'SecondaryStatus': 'Completed',\n",
       "  'HyperParameters': {'batch-size': '\"8\"',\n",
       "   'epochs': '\"5\"',\n",
       "   'lr': '\"0.01364056232805739\"',\n",
       "   'momentum': '\"0.5155036728264019\"',\n",
       "   'sagemaker_container_log_level': '20',\n",
       "   'sagemaker_job_name': '\"image-classification-course-project-pyt-2022-11-18-16-58-42-607\"',\n",
       "   'sagemaker_program': '\"train_model.py\"',\n",
       "   'sagemaker_region': '\"us-east-1\"',\n",
       "   'sagemaker_submit_directory': '\"s3://sagemaker-us-east-1-155431344840/image-classification-course-project-pyt-2022-11-18-16-58-42-607/source/sourcedir.tar.gz\"',\n",
       "   'test-batch-size': '\"8\"'},\n",
       "  'AlgorithmSpecification': {'TrainingImage': '763104351884.dkr.ecr.us-east-1.amazonaws.com/pytorch-training:1.8-cpu-py36',\n",
       "   'TrainingInputMode': 'File',\n",
       "   'EnableSageMakerMetricsTimeSeries': True},\n",
       "  'RoleArn': 'arn:aws:iam::155431344840:role/service-role/AmazonSageMaker-ExecutionRole-20221019T135057',\n",
       "  'InputDataConfig': [{'ChannelName': 'training',\n",
       "    'DataSource': {'S3DataSource': {'S3DataType': 'S3Prefix',\n",
       "      'S3Uri': 's3://sagemaker-us-east-1-155431344840/deep-learning-models-on-sagemaker-project/dogImagesSubset',\n",
       "      'S3DataDistributionType': 'FullyReplicated'}},\n",
       "    'CompressionType': 'None',\n",
       "    'RecordWrapperType': 'None'}],\n",
       "  'OutputDataConfig': {'KmsKeyId': '',\n",
       "   'S3OutputPath': 's3://sagemaker-us-east-1-155431344840/'},\n",
       "  'ResourceConfig': {'InstanceType': 'ml.m5.large',\n",
       "   'InstanceCount': 1,\n",
       "   'VolumeSizeInGB': 30},\n",
       "  'StoppingCondition': {'MaxRuntimeInSeconds': 86400},\n",
       "  'CreationTime': datetime.datetime(2022, 11, 18, 16, 58, 42, 983000, tzinfo=tzlocal()),\n",
       "  'TrainingStartTime': datetime.datetime(2022, 11, 18, 16, 59, 55, 572000, tzinfo=tzlocal()),\n",
       "  'TrainingEndTime': datetime.datetime(2022, 11, 18, 17, 4, 38, 579000, tzinfo=tzlocal()),\n",
       "  'LastModifiedTime': datetime.datetime(2022, 11, 18, 17, 5, 17, 181000, tzinfo=tzlocal()),\n",
       "  'SecondaryStatusTransitions': [{'Status': 'Starting',\n",
       "    'StartTime': datetime.datetime(2022, 11, 18, 16, 58, 42, 983000, tzinfo=tzlocal()),\n",
       "    'EndTime': datetime.datetime(2022, 11, 18, 16, 59, 55, 572000, tzinfo=tzlocal()),\n",
       "    'StatusMessage': 'Preparing the instances for training'},\n",
       "   {'Status': 'Downloading',\n",
       "    'StartTime': datetime.datetime(2022, 11, 18, 16, 59, 55, 572000, tzinfo=tzlocal()),\n",
       "    'EndTime': datetime.datetime(2022, 11, 18, 17, 0, 46, 142000, tzinfo=tzlocal()),\n",
       "    'StatusMessage': 'Downloading input data'},\n",
       "   {'Status': 'Training',\n",
       "    'StartTime': datetime.datetime(2022, 11, 18, 17, 0, 46, 142000, tzinfo=tzlocal()),\n",
       "    'EndTime': datetime.datetime(2022, 11, 18, 17, 4, 17, 867000, tzinfo=tzlocal()),\n",
       "    'StatusMessage': 'Training image download completed. Training in progress.'},\n",
       "   {'Status': 'Uploading',\n",
       "    'StartTime': datetime.datetime(2022, 11, 18, 17, 4, 17, 867000, tzinfo=tzlocal()),\n",
       "    'EndTime': datetime.datetime(2022, 11, 18, 17, 4, 38, 579000, tzinfo=tzlocal()),\n",
       "    'StatusMessage': 'Uploading generated training model'},\n",
       "   {'Status': 'Completed',\n",
       "    'StartTime': datetime.datetime(2022, 11, 18, 17, 4, 38, 579000, tzinfo=tzlocal()),\n",
       "    'EndTime': datetime.datetime(2022, 11, 18, 17, 4, 38, 579000, tzinfo=tzlocal()),\n",
       "    'StatusMessage': 'Training job completed'}],\n",
       "  'EnableNetworkIsolation': False,\n",
       "  'EnableInterContainerTrafficEncryption': False,\n",
       "  'EnableManagedSpotTraining': False,\n",
       "  'TrainingTimeInSeconds': 283,\n",
       "  'BillableTimeInSeconds': 283,\n",
       "  'DebugHookConfig': {'S3OutputPath': 's3://sagemaker-us-east-1-155431344840/',\n",
       "   'HookParameters': {'save_interval': '10'},\n",
       "   'CollectionConfigurations': [{'CollectionName': 'relu_input',\n",
       "     'CollectionParameters': {'include_regex': '.*relu_input',\n",
       "      'save_interval': '500'}},\n",
       "    {'CollectionName': 'losses',\n",
       "     'CollectionParameters': {'save_interval': '500'}},\n",
       "    {'CollectionName': 'gradients',\n",
       "     'CollectionParameters': {'save_interval': '500'}}]},\n",
       "  'DebugRuleConfigurations': [{'RuleConfigurationName': 'VanishingGradient',\n",
       "    'RuleEvaluatorImage': '503895931360.dkr.ecr.us-east-1.amazonaws.com/sagemaker-debugger-rules:latest',\n",
       "    'VolumeSizeInGB': 0,\n",
       "    'RuleParameters': {'rule_to_invoke': 'VanishingGradient'}},\n",
       "   {'RuleConfigurationName': 'Overfit',\n",
       "    'RuleEvaluatorImage': '503895931360.dkr.ecr.us-east-1.amazonaws.com/sagemaker-debugger-rules:latest',\n",
       "    'VolumeSizeInGB': 0,\n",
       "    'RuleParameters': {'rule_to_invoke': 'Overfit'}},\n",
       "   {'RuleConfigurationName': 'Overtraining',\n",
       "    'RuleEvaluatorImage': '503895931360.dkr.ecr.us-east-1.amazonaws.com/sagemaker-debugger-rules:latest',\n",
       "    'VolumeSizeInGB': 0,\n",
       "    'RuleParameters': {'rule_to_invoke': 'Overtraining'}},\n",
       "   {'RuleConfigurationName': 'PoorWeightInitialization',\n",
       "    'RuleEvaluatorImage': '503895931360.dkr.ecr.us-east-1.amazonaws.com/sagemaker-debugger-rules:latest',\n",
       "    'VolumeSizeInGB': 0,\n",
       "    'RuleParameters': {'rule_to_invoke': 'PoorWeightInitialization'}},\n",
       "   {'RuleConfigurationName': 'LossNotDecreasing',\n",
       "    'RuleEvaluatorImage': '503895931360.dkr.ecr.us-east-1.amazonaws.com/sagemaker-debugger-rules:latest',\n",
       "    'VolumeSizeInGB': 0,\n",
       "    'RuleParameters': {'rule_to_invoke': 'LossNotDecreasing'}}],\n",
       "  'DebugRuleEvaluationStatuses': [{'RuleConfigurationName': 'VanishingGradient',\n",
       "    'RuleEvaluationJobArn': 'arn:aws:sagemaker:us-east-1:155431344840:processing-job/image-classification-cours-vanishinggradient-81af3fd7',\n",
       "    'RuleEvaluationStatus': 'InProgress',\n",
       "    'LastModifiedTime': datetime.datetime(2022, 11, 18, 17, 5, 7, 61000, tzinfo=tzlocal())},\n",
       "   {'RuleConfigurationName': 'Overfit',\n",
       "    'RuleEvaluationJobArn': 'arn:aws:sagemaker:us-east-1:155431344840:processing-job/image-classification-cours-overfit-4494186a',\n",
       "    'RuleEvaluationStatus': 'InProgress',\n",
       "    'LastModifiedTime': datetime.datetime(2022, 11, 18, 17, 5, 7, 61000, tzinfo=tzlocal())},\n",
       "   {'RuleConfigurationName': 'Overtraining',\n",
       "    'RuleEvaluationJobArn': 'arn:aws:sagemaker:us-east-1:155431344840:processing-job/image-classification-cours-overtraining-d85d8759',\n",
       "    'RuleEvaluationStatus': 'InProgress',\n",
       "    'LastModifiedTime': datetime.datetime(2022, 11, 18, 17, 5, 7, 61000, tzinfo=tzlocal())},\n",
       "   {'RuleConfigurationName': 'PoorWeightInitialization',\n",
       "    'RuleEvaluationJobArn': 'arn:aws:sagemaker:us-east-1:155431344840:processing-job/image-classification-cours-poorweightinitialization-4c175b90',\n",
       "    'RuleEvaluationStatus': 'InProgress',\n",
       "    'LastModifiedTime': datetime.datetime(2022, 11, 18, 17, 5, 7, 61000, tzinfo=tzlocal())},\n",
       "   {'RuleConfigurationName': 'LossNotDecreasing',\n",
       "    'RuleEvaluationJobArn': 'arn:aws:sagemaker:us-east-1:155431344840:processing-job/image-classification-cours-lossnotdecreasing-6361d380',\n",
       "    'RuleEvaluationStatus': 'InProgress',\n",
       "    'LastModifiedTime': datetime.datetime(2022, 11, 18, 17, 5, 7, 61000, tzinfo=tzlocal())}],\n",
       "  'ProfilerConfig': {'S3OutputPath': 's3://sagemaker-us-east-1-155431344840/',\n",
       "   'ProfilingIntervalInMilliseconds': 1000,\n",
       "   'ProfilingParameters': {'DataloaderProfilingConfig': '{\"StartStep\": 7, \"NumSteps\": 1, \"MetricsRegex\": \".*\", }',\n",
       "    'DetailedProfilingConfig': '{\"StartStep\": 5, \"NumSteps\": 1, }',\n",
       "    'FileOpenFailThreshold': '50',\n",
       "    'HorovodProfilingConfig': '{\"StartStep\": 13, \"NumSteps\": 1, }',\n",
       "    'LocalPath': '/opt/ml/output/profiler',\n",
       "    'PythonProfilingConfig': '{\"StartStep\": 9, \"NumSteps\": 3, \"ProfilerName\": \"cprofile\", \"cProfileTimer\": \"default\", }',\n",
       "    'RotateFileCloseIntervalInSeconds': '60',\n",
       "    'RotateMaxFileSizeInBytes': '10485760',\n",
       "    'SMDataParallelProfilingConfig': '{\"StartStep\": 15, \"NumSteps\": 1, }'}},\n",
       "  'ProfilerRuleConfigurations': [{'RuleConfigurationName': 'ProfilerReport-1668790722',\n",
       "    'RuleEvaluatorImage': '503895931360.dkr.ecr.us-east-1.amazonaws.com/sagemaker-debugger-rules:latest',\n",
       "    'VolumeSizeInGB': 0,\n",
       "    'RuleParameters': {'rule_to_invoke': 'ProfilerReport'}}],\n",
       "  'ProfilerRuleEvaluationStatuses': [{'RuleConfigurationName': 'ProfilerReport-1668790722',\n",
       "    'RuleEvaluationJobArn': 'arn:aws:sagemaker:us-east-1:155431344840:processing-job/image-classification-cours-profilerreport-1668790722-a62f6c55',\n",
       "    'RuleEvaluationStatus': 'InProgress',\n",
       "    'LastModifiedTime': datetime.datetime(2022, 11, 18, 17, 5, 17, 176000, tzinfo=tzlocal())}],\n",
       "  'ProfilingStatus': 'Enabled',\n",
       "  'ResponseMetadata': {'RequestId': 'da712b16-43f3-4420-986c-7a16757ce54a',\n",
       "   'HTTPStatusCode': 200,\n",
       "   'HTTPHeaders': {'x-amzn-requestid': 'da712b16-43f3-4420-986c-7a16757ce54a',\n",
       "    'content-type': 'application/x-amz-json-1.1',\n",
       "    'content-length': '7343',\n",
       "    'date': 'Fri, 18 Nov 2022 17:05:19 GMT'},\n",
       "   'RetryAttempts': 0}})"
      ]
     },
     "execution_count": 17,
     "metadata": {},
     "output_type": "execute_result"
    }
   ],
   "source": [
    "job_name = estimator.latest_training_job.name\n",
    "client = estimator.sagemaker_session.sagemaker_client\n",
    "description = client.describe_training_job(TrainingJobName=estimator.latest_training_job.name)\n",
    "job_name, client, description"
   ]
  },
  {
   "cell_type": "code",
   "execution_count": 44,
   "metadata": {
    "scrolled": true,
    "tags": []
   },
   "outputs": [
    {
     "name": "stdout",
     "output_type": "stream",
     "text": [
      "Requirement already satisfied: smdebug in /opt/conda/lib/python3.8/site-packages/smdebug-1.0.13b20220304-py3.8.egg (1.0.13b20220304)\n",
      "Requirement already satisfied: protobuf>=3.6.0 in /opt/conda/lib/python3.8/site-packages (from smdebug) (3.19.4)\n",
      "Requirement already satisfied: numpy>=1.16.0 in /opt/conda/lib/python3.8/site-packages (from smdebug) (1.22.2)\n",
      "Requirement already satisfied: packaging in /opt/conda/lib/python3.8/site-packages (from smdebug) (21.3)\n",
      "Requirement already satisfied: boto3>=1.10.32 in /opt/conda/lib/python3.8/site-packages (from smdebug) (1.21.13)\n",
      "Requirement already satisfied: pyinstrument==3.4.2 in /opt/conda/lib/python3.8/site-packages/pyinstrument-3.4.2-py3.8.egg (from smdebug) (3.4.2)\n",
      "Requirement already satisfied: pyinstrument-cext>=0.2.2 in /opt/conda/lib/python3.8/site-packages/pyinstrument_cext-0.2.4-py3.8-linux-x86_64.egg (from pyinstrument==3.4.2->smdebug) (0.2.4)\n",
      "Requirement already satisfied: jmespath<1.0.0,>=0.7.1 in /opt/conda/lib/python3.8/site-packages (from boto3>=1.10.32->smdebug) (0.10.0)\n",
      "Requirement already satisfied: s3transfer<0.6.0,>=0.5.0 in /opt/conda/lib/python3.8/site-packages (from boto3>=1.10.32->smdebug) (0.5.2)\n",
      "Requirement already satisfied: botocore<1.25.0,>=1.24.13 in /opt/conda/lib/python3.8/site-packages (from boto3>=1.10.32->smdebug) (1.24.13)\n",
      "Requirement already satisfied: pyparsing!=3.0.5,>=2.0.2 in /opt/conda/lib/python3.8/site-packages (from packaging->smdebug) (3.0.7)\n",
      "Requirement already satisfied: urllib3<1.27,>=1.25.4 in /opt/conda/lib/python3.8/site-packages (from botocore<1.25.0,>=1.24.13->boto3>=1.10.32->smdebug) (1.26.8)\n",
      "Requirement already satisfied: python-dateutil<3.0.0,>=2.1 in /opt/conda/lib/python3.8/site-packages (from botocore<1.25.0,>=1.24.13->boto3>=1.10.32->smdebug) (2.8.2)\n",
      "Requirement already satisfied: six>=1.5 in /opt/conda/lib/python3.8/site-packages (from python-dateutil<3.0.0,>=2.1->botocore<1.25.0,>=1.24.13->boto3>=1.10.32->smdebug) (1.16.0)\n",
      "\u001b[33mWARNING: Running pip as the 'root' user can result in broken permissions and conflicting behaviour with the system package manager. It is recommended to use a virtual environment instead: https://pip.pypa.io/warnings/venv\u001b[0m\u001b[33m\n",
      "\u001b[0m"
     ]
    }
   ],
   "source": [
    "!pip install smdebug"
   ]
  },
  {
   "cell_type": "code",
   "execution_count": 22,
   "metadata": {},
   "outputs": [
    {
     "data": {
      "text/plain": [
       "'s3://sagemaker-us-east-1-155431344840/image-classification-course-project-pyt-2022-11-18-16-58-42-607/debug-output'"
      ]
     },
     "execution_count": 22,
     "metadata": {},
     "output_type": "execute_result"
    }
   ],
   "source": [
    "debugger_artifacts_s3_path = estimator.latest_job_debugger_artifacts_path()\n",
    "debugger_artifacts_s3_path"
   ]
  },
  {
   "cell_type": "code",
   "execution_count": 23,
   "metadata": {},
   "outputs": [
    {
     "name": "stdout",
     "output_type": "stream",
     "text": [
      "[2022-11-18 17:07:06.321 pytorch-1-10-cpu-py38-ml-t3-medium-9c8fa3a7688fa232cbbe37185a11:29 INFO utils.py:27] RULE_JOB_STOP_SIGNAL_FILENAME: None\n",
      "[2022-11-18 17:07:06.425 pytorch-1-10-cpu-py38-ml-t3-medium-9c8fa3a7688fa232cbbe37185a11:29 INFO s3_trial.py:42] Loading trial debug-output at path s3://sagemaker-us-east-1-155431344840/image-classification-course-project-pyt-2022-11-18-16-58-42-607/debug-output\n"
     ]
    },
    {
     "name": "stderr",
     "output_type": "stream",
     "text": [
      "/opt/conda/lib/python3.8/site-packages/smdebug-1.0.13b20220304-py3.8.egg/smdebug/profiler/system_metrics_reader.py:63: SyntaxWarning: \"is not\" with a literal. Did you mean \"!=\"?\n",
      "/opt/conda/lib/python3.8/site-packages/smdebug-1.0.13b20220304-py3.8.egg/smdebug/profiler/system_metrics_reader.py:63: SyntaxWarning: \"is not\" with a literal. Did you mean \"!=\"?\n"
     ]
    },
    {
     "name": "stdout",
     "output_type": "stream",
     "text": [
      "[2022-11-18 17:07:06.759 pytorch-1-10-cpu-py38-ml-t3-medium-9c8fa3a7688fa232cbbe37185a11:29 INFO trial.py:197] Training has ended, will refresh one final time in 1 sec.\n",
      "[2022-11-18 17:07:07.776 pytorch-1-10-cpu-py38-ml-t3-medium-9c8fa3a7688fa232cbbe37185a11:29 INFO trial.py:210] Loaded all steps\n"
     ]
    },
    {
     "data": {
      "text/plain": [
       "['CrossEntropyLoss_output_0',\n",
       " 'gradient/ResNet_fc.bias',\n",
       " 'gradient/ResNet_fc.weight',\n",
       " 'layer1.0.relu_input_0',\n",
       " 'layer1.0.relu_input_1',\n",
       " 'layer1.1.relu_input_0',\n",
       " 'layer1.1.relu_input_1',\n",
       " 'layer2.0.relu_input_0',\n",
       " 'layer2.0.relu_input_1',\n",
       " 'layer2.1.relu_input_0',\n",
       " 'layer2.1.relu_input_1',\n",
       " 'layer3.0.relu_input_0',\n",
       " 'layer3.0.relu_input_1',\n",
       " 'layer3.1.relu_input_0',\n",
       " 'layer3.1.relu_input_1',\n",
       " 'layer4.0.relu_input_0',\n",
       " 'layer4.0.relu_input_1',\n",
       " 'layer4.1.relu_input_0',\n",
       " 'layer4.1.relu_input_1',\n",
       " 'relu_input_0',\n",
       " 'scalar/accuracy']"
      ]
     },
     "execution_count": 23,
     "metadata": {},
     "output_type": "execute_result"
    }
   ],
   "source": [
    "from smdebug.trials import create_trial\n",
    "from smdebug.core.modes import ModeKeys\n",
    "# 's3://sagemaker-us-east-1-155431344840/image-classification-course-project-pyt-2022-11-18-03-01-03-952/debug-output'\n",
    "\n",
    "trial = create_trial(debugger_artifacts_s3_path)\n",
    "trial.tensor_names()"
   ]
  },
  {
   "cell_type": "code",
   "execution_count": 28,
   "metadata": {},
   "outputs": [
    {
     "data": {
      "text/plain": [
       "1"
      ]
     },
     "execution_count": 28,
     "metadata": {},
     "output_type": "execute_result"
    }
   ],
   "source": [
    "# len(trial.tensor(\"nll_loss_output_0\").steps(mode=ModeKeys.TRAIN))\n",
    "len(trial.tensor(\"CrossEntropyLoss_output_0\").steps(mode=ModeKeys.TRAIN))"
   ]
  },
  {
   "cell_type": "code",
   "execution_count": 25,
   "metadata": {},
   "outputs": [
    {
     "data": {
      "text/plain": [
       "1"
      ]
     },
     "execution_count": 25,
     "metadata": {},
     "output_type": "execute_result"
    }
   ],
   "source": [
    "# len(trial.tensor(\"nll_loss_output_0\").steps(mode=ModeKeys.EVAL))\n",
    "len(trial.tensor(\"CrossEntropyLoss_output_0\").steps(mode=ModeKeys.EVAL))"
   ]
  },
  {
   "cell_type": "code",
   "execution_count": 64,
   "metadata": {},
   "outputs": [],
   "source": [
    "def get_data(trial, tname, mode):\n",
    "    tensor = trial.tensor(tname)\n",
    "    steps = tensor.steps(mode=mode)\n",
    "    vals = []\n",
    "    for s in steps:\n",
    "        vals.append(tensor.value(s, mode=mode))\n",
    "    return steps, vals\n",
    "\n",
    "import matplotlib.pyplot as plt\n",
    "from mpl_toolkits.axes_grid1 import host_subplot\n",
    "\n",
    "\n",
    "def plot_tensor(trial, tensor_name):\n",
    "\n",
    "    steps_train, vals_train = get_data(trial, tensor_name, mode=ModeKeys.TRAIN)\n",
    "    print(\"loaded TRAIN data\")\n",
    "    steps_eval, vals_eval = get_data(trial, tensor_name, mode=ModeKeys.EVAL)\n",
    "    print(\"loaded EVAL data\")\n",
    "\n",
    "    fig = plt.figure(figsize=(10, 7))\n",
    "    host = host_subplot(111)\n",
    "\n",
    "    par = host.twiny()\n",
    "\n",
    "    host.set_xlabel(\"Steps (TRAIN)\")\n",
    "    par.set_xlabel(\"Steps (EVAL)\")\n",
    "    host.set_ylabel(tensor_name)\n",
    "\n",
    "    (p1,) = host.plot(steps_train, vals_train, label=tensor_name)\n",
    "    print(\"completed TRAIN plot\")\n",
    "    (p2,) = par.plot(steps_eval, vals_eval, label=\"val_\" + tensor_name)\n",
    "    print(\"completed EVAL plot\")\n",
    "    leg = plt.legend()\n",
    "\n",
    "    host.xaxis.get_label().set_color(p1.get_color())\n",
    "    leg.texts[0].set_color(p1.get_color())\n",
    "\n",
    "    par.xaxis.get_label().set_color(p2.get_color())\n",
    "    leg.texts[1].set_color(p2.get_color())\n",
    "\n",
    "    plt.ylabel(tensor_name)\n",
    "\n",
    "    plt.show()"
   ]
  },
  {
   "cell_type": "code",
   "execution_count": 65,
   "metadata": {},
   "outputs": [
    {
     "name": "stdout",
     "output_type": "stream",
     "text": [
      "loaded TRAIN data\n",
      "loaded EVAL data\n",
      "completed TRAIN plot\n",
      "completed EVAL plot\n"
     ]
    },
    {
     "data": {
      "image/png": "[encoded data removed]",
      "text/plain": [
       "<Figure size 720x504 with 1 Axes>"
      ]
     },
     "metadata": {
      "needs_background": "light"
     },
     "output_type": "display_data"
    }
   ],
   "source": [
    "# TODO: Plot a debugging output.\n",
    "plot_tensor(trial, \"CrossEntropyLoss_output_0\")"
   ]
  },
  {
   "cell_type": "markdown",
   "metadata": {},
   "source": [
    "**TODO**: Is there some anomalous behaviour in your debugging output? If so, what is the error and how will you fix it? \n",
    "Answer: I think the model didn't reduce a lot of its loss in the last steps, maybe it is not necessary to train the whole 5 epochs.\n",
    "**TODO**: If not, suppose there was an error. What would that error look like and how would you have fixed it?"
   ]
  },
  {
   "cell_type": "code",
   "execution_count": 29,
   "metadata": {},
   "outputs": [
    {
     "name": "stdout",
     "output_type": "stream",
     "text": [
      "You will find the profiler report in s3://sagemaker-us-east-1-155431344840/image-classification-course-project-pyt-2022-11-18-16-58-42-607/rule-output\n"
     ]
    }
   ],
   "source": [
    "# TODO: Display the profiler output\n",
    "rule_output_path = estimator.output_path + estimator.latest_training_job.job_name + \"/rule-output\"\n",
    "print(f\"You will find the profiler report in {rule_output_path}\")"
   ]
  },
  {
   "cell_type": "code",
   "execution_count": 30,
   "metadata": {},
   "outputs": [
    {
     "name": "stdout",
     "output_type": "stream",
     "text": [
      "2022-11-18 17:05:32     375832 image-classification-course-project-pyt-2022-11-18-16-58-42-607/rule-output/ProfilerReport-1668790722/profiler-output/profiler-report.html\n",
      "2022-11-18 17:05:32     223775 image-classification-course-project-pyt-2022-11-18-16-58-42-607/rule-output/ProfilerReport-1668790722/profiler-output/profiler-report.ipynb\n",
      "2022-11-18 17:05:27        191 image-classification-course-project-pyt-2022-11-18-16-58-42-607/rule-output/ProfilerReport-1668790722/profiler-output/profiler-reports/BatchSize.json\n",
      "2022-11-18 17:05:27        199 image-classification-course-project-pyt-2022-11-18-16-58-42-607/rule-output/ProfilerReport-1668790722/profiler-output/profiler-reports/CPUBottleneck.json\n",
      "2022-11-18 17:05:27       2224 image-classification-course-project-pyt-2022-11-18-16-58-42-607/rule-output/ProfilerReport-1668790722/profiler-output/profiler-reports/Dataloader.json\n",
      "2022-11-18 17:05:27        127 image-classification-course-project-pyt-2022-11-18-16-58-42-607/rule-output/ProfilerReport-1668790722/profiler-output/profiler-reports/GPUMemoryIncrease.json\n",
      "2022-11-18 17:05:27        198 image-classification-course-project-pyt-2022-11-18-16-58-42-607/rule-output/ProfilerReport-1668790722/profiler-output/profiler-reports/IOBottleneck.json\n",
      "2022-11-18 17:05:27        119 image-classification-course-project-pyt-2022-11-18-16-58-42-607/rule-output/ProfilerReport-1668790722/profiler-output/profiler-reports/LoadBalancing.json\n",
      "2022-11-18 17:05:27        151 image-classification-course-project-pyt-2022-11-18-16-58-42-607/rule-output/ProfilerReport-1668790722/profiler-output/profiler-reports/LowGPUUtilization.json\n",
      "2022-11-18 17:05:27        232 image-classification-course-project-pyt-2022-11-18-16-58-42-607/rule-output/ProfilerReport-1668790722/profiler-output/profiler-reports/MaxInitializationTime.json\n",
      "2022-11-18 17:05:27       1257 image-classification-course-project-pyt-2022-11-18-16-58-42-607/rule-output/ProfilerReport-1668790722/profiler-output/profiler-reports/OverallFrameworkMetrics.json\n",
      "2022-11-18 17:05:27        482 image-classification-course-project-pyt-2022-11-18-16-58-42-607/rule-output/ProfilerReport-1668790722/profiler-output/profiler-reports/OverallSystemUsage.json\n",
      "2022-11-18 17:05:27       2148 image-classification-course-project-pyt-2022-11-18-16-58-42-607/rule-output/ProfilerReport-1668790722/profiler-output/profiler-reports/StepOutlier.json\n"
     ]
    }
   ],
   "source": [
    "! aws s3 ls {rule_output_path} --recursive"
   ]
  },
  {
   "cell_type": "code",
   "execution_count": 31,
   "metadata": {},
   "outputs": [
    {
     "name": "stdout",
     "output_type": "stream",
     "text": [
      "download: s3://sagemaker-us-east-1-155431344840/image-classification-course-project-pyt-2022-11-18-16-58-42-607/rule-output/ProfilerReport-1668790722/profiler-output/profiler-reports/CPUBottleneck.json to ProfilerReport-1668790722/profiler-output/profiler-reports/CPUBottleneck.json\n",
      "download: s3://sagemaker-us-east-1-155431344840/image-classification-course-project-pyt-2022-11-18-16-58-42-607/rule-output/ProfilerReport-1668790722/profiler-output/profiler-reports/GPUMemoryIncrease.json to ProfilerReport-1668790722/profiler-output/profiler-reports/GPUMemoryIncrease.json\n",
      "download: s3://sagemaker-us-east-1-155431344840/image-classification-course-project-pyt-2022-11-18-16-58-42-607/rule-output/ProfilerReport-1668790722/profiler-output/profiler-reports/BatchSize.json to ProfilerReport-1668790722/profiler-output/profiler-reports/BatchSize.json\n",
      "download: s3://sagemaker-us-east-1-155431344840/image-classification-course-project-pyt-2022-11-18-16-58-42-607/rule-output/ProfilerReport-1668790722/profiler-output/profiler-reports/OverallFrameworkMetrics.json to ProfilerReport-1668790722/profiler-output/profiler-reports/OverallFrameworkMetrics.json\n",
      "download: s3://sagemaker-us-east-1-155431344840/image-classification-course-project-pyt-2022-11-18-16-58-42-607/rule-output/ProfilerReport-1668790722/profiler-output/profiler-reports/LoadBalancing.json to ProfilerReport-1668790722/profiler-output/profiler-reports/LoadBalancing.json\n",
      "download: s3://sagemaker-us-east-1-155431344840/image-classification-course-project-pyt-2022-11-18-16-58-42-607/rule-output/ProfilerReport-1668790722/profiler-output/profiler-reports/OverallSystemUsage.json to ProfilerReport-1668790722/profiler-output/profiler-reports/OverallSystemUsage.json\n",
      "download: s3://sagemaker-us-east-1-155431344840/image-classification-course-project-pyt-2022-11-18-16-58-42-607/rule-output/ProfilerReport-1668790722/profiler-output/profiler-reports/Dataloader.json to ProfilerReport-1668790722/profiler-output/profiler-reports/Dataloader.json\n",
      "download: s3://sagemaker-us-east-1-155431344840/image-classification-course-project-pyt-2022-11-18-16-58-42-607/rule-output/ProfilerReport-1668790722/profiler-output/profiler-report.html to ProfilerReport-1668790722/profiler-output/profiler-report.html\n",
      "download: s3://sagemaker-us-east-1-155431344840/image-classification-course-project-pyt-2022-11-18-16-58-42-607/rule-output/ProfilerReport-1668790722/profiler-output/profiler-reports/MaxInitializationTime.json to ProfilerReport-1668790722/profiler-output/profiler-reports/MaxInitializationTime.json\n",
      "download: s3://sagemaker-us-east-1-155431344840/image-classification-course-project-pyt-2022-11-18-16-58-42-607/rule-output/ProfilerReport-1668790722/profiler-output/profiler-reports/IOBottleneck.json to ProfilerReport-1668790722/profiler-output/profiler-reports/IOBottleneck.json\n",
      "download: s3://sagemaker-us-east-1-155431344840/image-classification-course-project-pyt-2022-11-18-16-58-42-607/rule-output/ProfilerReport-1668790722/profiler-output/profiler-reports/LowGPUUtilization.json to ProfilerReport-1668790722/profiler-output/profiler-reports/LowGPUUtilization.json\n",
      "download: s3://sagemaker-us-east-1-155431344840/image-classification-course-project-pyt-2022-11-18-16-58-42-607/rule-output/ProfilerReport-1668790722/profiler-output/profiler-reports/StepOutlier.json to ProfilerReport-1668790722/profiler-output/profiler-reports/StepOutlier.json\n",
      "download: s3://sagemaker-us-east-1-155431344840/image-classification-course-project-pyt-2022-11-18-16-58-42-607/rule-output/ProfilerReport-1668790722/profiler-output/profiler-report.ipynb to ProfilerReport-1668790722/profiler-output/profiler-report.ipynb\n"
     ]
    }
   ],
   "source": [
    "! aws s3 cp {rule_output_path} ./ --recursive"
   ]
  },
  {
   "cell_type": "code",
   "execution_count": 69,
   "metadata": {},
   "outputs": [
    {
     "data": {
      "text/plain": [
       "'ProfilerReport'"
      ]
     },
     "execution_count": 69,
     "metadata": {},
     "output_type": "execute_result"
    }
   ],
   "source": [
    "import os\n",
    "\n",
    "# get the autogenerated folder name of profiler report\n",
    "profiler_report_name = [\n",
    "    rule[\"RuleConfigurationName\"]\n",
    "    for rule in estimator.latest_training_job.rule_job_summary()\n",
    "    if \"Profiler\" in rule[\"RuleConfigurationName\"]\n",
    "][0]\n",
    "profiler_report_name"
   ]
  },
  {
   "cell_type": "code",
   "execution_count": null,
   "metadata": {
    "scrolled": true,
    "tags": []
   },
   "outputs": [],
   "source": [
    "import IPython\n",
    "\n",
    "IPython.display.HTML(filename=profiler_report_name + \"/profiler-output/profiler-report.html\")"
   ]
  },
  {
   "cell_type": "markdown",
   "metadata": {},
   "source": [
    "## Model Deploying"
   ]
  },
  {
   "cell_type": "code",
   "execution_count": 72,
   "metadata": {},
   "outputs": [
    {
     "name": "stdout",
     "output_type": "stream",
     "text": [
      "------!"
     ]
    }
   ],
   "source": [
    "# TODO: Deploy your model to an endpoint\n",
    "from sagemaker.pytorch import PyTorchModel\n",
    "# predictor=estimator.deploy(initial_instance_count=1, instance_type=\"ml.m5.large\") # TODO: Add your deployment configuration like instance type and number of instances\n",
    "pytorch_model = PyTorchModel(model_data='s3://sagemaker-us-east-1-155431344840/image-classification-course-project-pyt-2022-11-18-04-43-23-799/output/model.tar.gz', role=role, entry_point='inference.py', framework_version=\"1.8\",\n",
    "    py_version=\"py36\",)\n",
    "predictor = pytorch_model.deploy(instance_type='ml.m5.large', initial_instance_count=1)"
   ]
  },
  {
   "cell_type": "code",
   "execution_count": 73,
   "metadata": {},
   "outputs": [],
   "source": [
    "from sagemaker.serializers import IdentitySerializer\n",
    "predictor.serializer = IdentitySerializer(\"image/jpeg\")\n",
    "from PIL import Image\n",
    "from IPython.display import Image as ImageDisplay\n",
    "import io\n",
    "import numpy as np\n",
    "\n",
    "def identify_dog(image_path):    \n",
    "    buf = io.BytesIO()\n",
    "    Image.open(image_path).save(buf, format=\"JPEG\")\n",
    "    response = predictor.predict(buf.getvalue())\n",
    "    \n",
    "    return response\n"
   ]
  },
  {
   "cell_type": "code",
   "execution_count": 74,
   "metadata": {},
   "outputs": [
    {
     "data": {
      "text/plain": [
       "array([26])"
      ]
     },
     "execution_count": 74,
     "metadata": {},
     "output_type": "execute_result"
    }
   ],
   "source": [
    "# TODO: Run an prediction on the endpoint\n",
    "image = 'dogImages/valid/027.Bloodhound/Bloodhound_01931.jpg' # bloodhound has the 26 label\n",
    "response = identify_dog(image)\n",
    "np.argmax(response, 1)"
   ]
  },
  {
   "cell_type": "code",
   "execution_count": 71,
   "metadata": {},
   "outputs": [
    {
     "ename": "ClientError",
     "evalue": "An error occurred (ValidationException) when calling the DeleteEndpointConfig operation: Could not find endpoint configuration \"arn:aws:sagemaker:us-east-1:155431344840:endpoint-config/pytorch-inference-2022-11-18-04-07-24-295\".",
     "output_type": "error",
     "traceback": [
      "\u001b[0;31m---------------------------------------------------------------------------\u001b[0m",
      "\u001b[0;31mClientError\u001b[0m                               Traceback (most recent call last)",
      "\u001b[0;32m<ipython-input-71-2547acf38ef3>\u001b[0m in \u001b[0;36m<module>\u001b[0;34m\u001b[0m\n\u001b[1;32m      1\u001b[0m \u001b[0;31m# TODO: Remember to shutdown/delete your endpoint once your work is done\u001b[0m\u001b[0;34m\u001b[0m\u001b[0;34m\u001b[0m\u001b[0;34m\u001b[0m\u001b[0m\n\u001b[0;32m----> 2\u001b[0;31m \u001b[0mpredictor\u001b[0m\u001b[0;34m.\u001b[0m\u001b[0mdelete_endpoint\u001b[0m\u001b[0;34m(\u001b[0m\u001b[0;34m)\u001b[0m\u001b[0;34m\u001b[0m\u001b[0;34m\u001b[0m\u001b[0m\n\u001b[0m",
      "\u001b[0;32m/opt/conda/lib/python3.8/site-packages/sagemaker/predictor.py\u001b[0m in \u001b[0;36mdelete_endpoint\u001b[0;34m(self, delete_endpoint_config)\u001b[0m\n\u001b[1;32m    327\u001b[0m         \"\"\"\n\u001b[1;32m    328\u001b[0m         \u001b[0;32mif\u001b[0m \u001b[0mdelete_endpoint_config\u001b[0m\u001b[0;34m:\u001b[0m\u001b[0;34m\u001b[0m\u001b[0;34m\u001b[0m\u001b[0m\n\u001b[0;32m--> 329\u001b[0;31m             \u001b[0mself\u001b[0m\u001b[0;34m.\u001b[0m\u001b[0m_delete_endpoint_config\u001b[0m\u001b[0;34m(\u001b[0m\u001b[0;34m)\u001b[0m\u001b[0;34m\u001b[0m\u001b[0;34m\u001b[0m\u001b[0m\n\u001b[0m\u001b[1;32m    330\u001b[0m \u001b[0;34m\u001b[0m\u001b[0m\n\u001b[1;32m    331\u001b[0m         \u001b[0mself\u001b[0m\u001b[0;34m.\u001b[0m\u001b[0msagemaker_session\u001b[0m\u001b[0;34m.\u001b[0m\u001b[0mdelete_endpoint\u001b[0m\u001b[0;34m(\u001b[0m\u001b[0mself\u001b[0m\u001b[0;34m.\u001b[0m\u001b[0mendpoint_name\u001b[0m\u001b[0;34m)\u001b[0m\u001b[0;34m\u001b[0m\u001b[0;34m\u001b[0m\u001b[0m\n",
      "\u001b[0;32m/opt/conda/lib/python3.8/site-packages/sagemaker/predictor.py\u001b[0m in \u001b[0;36m_delete_endpoint_config\u001b[0;34m(self)\u001b[0m\n\u001b[1;32m    312\u001b[0m         \u001b[0;34m\"\"\"Delete the Amazon SageMaker endpoint configuration\"\"\"\u001b[0m\u001b[0;34m\u001b[0m\u001b[0;34m\u001b[0m\u001b[0m\n\u001b[1;32m    313\u001b[0m         \u001b[0mcurrent_endpoint_config_name\u001b[0m \u001b[0;34m=\u001b[0m \u001b[0mself\u001b[0m\u001b[0;34m.\u001b[0m\u001b[0m_get_endpoint_config_name\u001b[0m\u001b[0;34m(\u001b[0m\u001b[0;34m)\u001b[0m\u001b[0;34m\u001b[0m\u001b[0;34m\u001b[0m\u001b[0m\n\u001b[0;32m--> 314\u001b[0;31m         \u001b[0mself\u001b[0m\u001b[0;34m.\u001b[0m\u001b[0msagemaker_session\u001b[0m\u001b[0;34m.\u001b[0m\u001b[0mdelete_endpoint_config\u001b[0m\u001b[0;34m(\u001b[0m\u001b[0mcurrent_endpoint_config_name\u001b[0m\u001b[0;34m)\u001b[0m\u001b[0;34m\u001b[0m\u001b[0;34m\u001b[0m\u001b[0m\n\u001b[0m\u001b[1;32m    315\u001b[0m \u001b[0;34m\u001b[0m\u001b[0m\n\u001b[1;32m    316\u001b[0m     \u001b[0;32mdef\u001b[0m \u001b[0mdelete_endpoint\u001b[0m\u001b[0;34m(\u001b[0m\u001b[0mself\u001b[0m\u001b[0;34m,\u001b[0m \u001b[0mdelete_endpoint_config\u001b[0m\u001b[0;34m=\u001b[0m\u001b[0;32mTrue\u001b[0m\u001b[0;34m)\u001b[0m\u001b[0;34m:\u001b[0m\u001b[0;34m\u001b[0m\u001b[0;34m\u001b[0m\u001b[0m\n",
      "\u001b[0;32m/opt/conda/lib/python3.8/site-packages/sagemaker/session.py\u001b[0m in \u001b[0;36mdelete_endpoint_config\u001b[0;34m(self, endpoint_config_name)\u001b[0m\n\u001b[1;32m   3093\u001b[0m         \"\"\"\n\u001b[1;32m   3094\u001b[0m         \u001b[0mLOGGER\u001b[0m\u001b[0;34m.\u001b[0m\u001b[0minfo\u001b[0m\u001b[0;34m(\u001b[0m\u001b[0;34m\"Deleting endpoint configuration with name: %s\"\u001b[0m\u001b[0;34m,\u001b[0m \u001b[0mendpoint_config_name\u001b[0m\u001b[0;34m)\u001b[0m\u001b[0;34m\u001b[0m\u001b[0;34m\u001b[0m\u001b[0m\n\u001b[0;32m-> 3095\u001b[0;31m         \u001b[0mself\u001b[0m\u001b[0;34m.\u001b[0m\u001b[0msagemaker_client\u001b[0m\u001b[0;34m.\u001b[0m\u001b[0mdelete_endpoint_config\u001b[0m\u001b[0;34m(\u001b[0m\u001b[0mEndpointConfigName\u001b[0m\u001b[0;34m=\u001b[0m\u001b[0mendpoint_config_name\u001b[0m\u001b[0;34m)\u001b[0m\u001b[0;34m\u001b[0m\u001b[0;34m\u001b[0m\u001b[0m\n\u001b[0m\u001b[1;32m   3096\u001b[0m \u001b[0;34m\u001b[0m\u001b[0m\n\u001b[1;32m   3097\u001b[0m     \u001b[0;32mdef\u001b[0m \u001b[0mdelete_model\u001b[0m\u001b[0;34m(\u001b[0m\u001b[0mself\u001b[0m\u001b[0;34m,\u001b[0m \u001b[0mmodel_name\u001b[0m\u001b[0;34m)\u001b[0m\u001b[0;34m:\u001b[0m\u001b[0;34m\u001b[0m\u001b[0;34m\u001b[0m\u001b[0m\n",
      "\u001b[0;32m/opt/conda/lib/python3.8/site-packages/botocore/client.py\u001b[0m in \u001b[0;36m_api_call\u001b[0;34m(self, *args, **kwargs)\u001b[0m\n\u001b[1;32m    393\u001b[0m                     \"%s() only accepts keyword arguments.\" % py_operation_name)\n\u001b[1;32m    394\u001b[0m             \u001b[0;31m# The \"self\" in this scope is referring to the BaseClient.\u001b[0m\u001b[0;34m\u001b[0m\u001b[0;34m\u001b[0m\u001b[0;34m\u001b[0m\u001b[0m\n\u001b[0;32m--> 395\u001b[0;31m             \u001b[0;32mreturn\u001b[0m \u001b[0mself\u001b[0m\u001b[0;34m.\u001b[0m\u001b[0m_make_api_call\u001b[0m\u001b[0;34m(\u001b[0m\u001b[0moperation_name\u001b[0m\u001b[0;34m,\u001b[0m \u001b[0mkwargs\u001b[0m\u001b[0;34m)\u001b[0m\u001b[0;34m\u001b[0m\u001b[0;34m\u001b[0m\u001b[0m\n\u001b[0m\u001b[1;32m    396\u001b[0m \u001b[0;34m\u001b[0m\u001b[0m\n\u001b[1;32m    397\u001b[0m         \u001b[0m_api_call\u001b[0m\u001b[0;34m.\u001b[0m\u001b[0m__name__\u001b[0m \u001b[0;34m=\u001b[0m \u001b[0mstr\u001b[0m\u001b[0;34m(\u001b[0m\u001b[0mpy_operation_name\u001b[0m\u001b[0;34m)\u001b[0m\u001b[0;34m\u001b[0m\u001b[0;34m\u001b[0m\u001b[0m\n",
      "\u001b[0;32m/opt/conda/lib/python3.8/site-packages/botocore/client.py\u001b[0m in \u001b[0;36m_make_api_call\u001b[0;34m(self, operation_name, api_params)\u001b[0m\n\u001b[1;32m    723\u001b[0m             \u001b[0merror_code\u001b[0m \u001b[0;34m=\u001b[0m \u001b[0mparsed_response\u001b[0m\u001b[0;34m.\u001b[0m\u001b[0mget\u001b[0m\u001b[0;34m(\u001b[0m\u001b[0;34m\"Error\"\u001b[0m\u001b[0;34m,\u001b[0m \u001b[0;34m{\u001b[0m\u001b[0;34m}\u001b[0m\u001b[0;34m)\u001b[0m\u001b[0;34m.\u001b[0m\u001b[0mget\u001b[0m\u001b[0;34m(\u001b[0m\u001b[0;34m\"Code\"\u001b[0m\u001b[0;34m)\u001b[0m\u001b[0;34m\u001b[0m\u001b[0;34m\u001b[0m\u001b[0m\n\u001b[1;32m    724\u001b[0m             \u001b[0merror_class\u001b[0m \u001b[0;34m=\u001b[0m \u001b[0mself\u001b[0m\u001b[0;34m.\u001b[0m\u001b[0mexceptions\u001b[0m\u001b[0;34m.\u001b[0m\u001b[0mfrom_code\u001b[0m\u001b[0;34m(\u001b[0m\u001b[0merror_code\u001b[0m\u001b[0;34m)\u001b[0m\u001b[0;34m\u001b[0m\u001b[0;34m\u001b[0m\u001b[0m\n\u001b[0;32m--> 725\u001b[0;31m             \u001b[0;32mraise\u001b[0m \u001b[0merror_class\u001b[0m\u001b[0;34m(\u001b[0m\u001b[0mparsed_response\u001b[0m\u001b[0;34m,\u001b[0m \u001b[0moperation_name\u001b[0m\u001b[0;34m)\u001b[0m\u001b[0;34m\u001b[0m\u001b[0;34m\u001b[0m\u001b[0m\n\u001b[0m\u001b[1;32m    726\u001b[0m         \u001b[0;32melse\u001b[0m\u001b[0;34m:\u001b[0m\u001b[0;34m\u001b[0m\u001b[0;34m\u001b[0m\u001b[0m\n\u001b[1;32m    727\u001b[0m             \u001b[0;32mreturn\u001b[0m \u001b[0mparsed_response\u001b[0m\u001b[0;34m\u001b[0m\u001b[0;34m\u001b[0m\u001b[0m\n",
      "\u001b[0;31mClientError\u001b[0m: An error occurred (ValidationException) when calling the DeleteEndpointConfig operation: Could not find endpoint configuration \"arn:aws:sagemaker:us-east-1:155431344840:endpoint-config/pytorch-inference-2022-11-18-04-07-24-295\"."
     ]
    }
   ],
   "source": [
    "# TODO: Remember to shutdown/delete your endpoint once your work is done\n",
    "predictor.delete_endpoint()"
   ]
  },
  {
   "cell_type": "code",
   "execution_count": null,
   "metadata": {},
   "outputs": [],
   "source": [
    "import torch\n",
    "from torchvision import datasets, models, transforms\n",
    "import torchvision\n",
    "def get_valid_data_loader():\n",
    "    transform = transforms.Compose([transforms.RandomResizedCrop(224), transforms.ToTensor(), transforms.Normalize((0.1307,), (0.3081,))])\n",
    "    testset = datasets.ImageFolder(\"dogImagesSubset/valid\", transform = transform)\n",
    "    return torch.utils.data.DataLoader(testset, batch_size=2, shuffle=False, num_workers=2)\n",
    "def imshow(img):\n",
    "    img = img / 2 + 0.5  # unnormalize\n",
    "    npimg = img.numpy()\n",
    "    plt.imshow(np.transpose(npimg, (1, 2, 0)))\n",
    "    \n",
    "validLoader = get_valid_data_loader()\n",
    "dataiter = iter(validLoader)\n",
    "\n",
    "images, labels = dataiter.next()\n",
    "\n",
    "# print images\n",
    "\n",
    "imshow(torchvision.utils.make_grid(images))\n",
    "\n",
    "outputs = predictor.predict(images.numpy())\n",
    "\n",
    "_, predicted = torch.max(torch.from_numpy(np.array(outputs)), 1)\n"
   ]
  }
 ],
 "metadata": {
  "instance_type": "ml.t3.medium",
  "kernelspec": {
   "display_name": "Python 3 (PyTorch 1.10 Python 3.8 CPU Optimized)",
   "language": "python",
   "name": "python3__SAGEMAKER_INTERNAL__arn:aws:sagemaker:us-east-1:081325390199:image/pytorch-1.10-cpu-py38"
  },
  "language_info": {
   "codemirror_mode": {
    "name": "ipython",
    "version": 3
   },
   "file_extension": ".py",
   "mimetype": "text/x-python",
   "name": "python",
   "nbconvert_exporter": "python",
   "pygments_lexer": "ipython3",
   "version": "3.8.10"
  }
 },
 "nbformat": 4,
 "nbformat_minor": 4
}
